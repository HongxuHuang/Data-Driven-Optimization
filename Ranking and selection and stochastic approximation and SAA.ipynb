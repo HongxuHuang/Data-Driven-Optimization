{
 "cells": [
  {
   "cell_type": "markdown",
   "metadata": {},
   "source": [
    "\\section*{Exercise 3}"
   ]
  },
  {
   "cell_type": "code",
   "execution_count": 23,
   "metadata": {},
   "outputs": [],
   "source": [
    "import numpy as np\n",
    "import pandas as pd\n",
    "import random as rd"
   ]
  },
  {
   "cell_type": "code",
   "execution_count": 24,
   "metadata": {},
   "outputs": [],
   "source": [
    "df = pd.read_excel (r'data.xlsx')\n",
    "#print (df)"
   ]
  },
  {
   "cell_type": "code",
   "execution_count": 25,
   "metadata": {},
   "outputs": [],
   "source": [
    "# set parameters from file\n",
    "Pstar = df.iloc[0,1]\n",
    "n0 = df.iloc[1,1]\n",
    "h = df.iloc[2,1]\n",
    "deltastar = df.iloc[3,1]"
   ]
  },
  {
   "cell_type": "code",
   "execution_count": 26,
   "metadata": {},
   "outputs": [],
   "source": [
    "# set data points\n",
    "data = df.iloc[10:,:]\n",
    "#data"
   ]
  },
  {
   "cell_type": "code",
   "execution_count": 50,
   "metadata": {},
   "outputs": [],
   "source": [
    "def Rinott(Pstar, n0, h, deltastar, data):\n",
    "    nu = n0-1\n",
    "    h = h # already provided\n",
    "    \n",
    "    # step (ii)\n",
    "    # define a frame that holds all samples\n",
    "    samples = np.empty([n0, data.shape[1]])\n",
    "    # collect samples\n",
    "    for i in np.arange(0, data.shape[1]-1, step = 1):\n",
    "        samples[:,i] = data.iloc[:n0,i+1]#data.iloc[:,i+1].sample(n=n0, random_state=1)\n",
    "\n",
    "    # step (iii)\n",
    "    # summary statistics calculations\n",
    "    stats = np.empty([data.shape[1]-1,4])\n",
    "    for i in np.arange(0, data.shape[1]-1, step = 1):\n",
    "        stats[i,0] = np.mean(samples[:,i])\n",
    "        stats[i,1] = np.var(samples[:,i], ddof = 1)\n",
    "    \n",
    "    # Stage 2\n",
    "    \n",
    "    # step (i)\n",
    "    for i in np.arange(0, data.shape[1]-1, step = 1):\n",
    "        stats[i,2] = max(n0, np.ceil(((h*np.sqrt(stats[i,1]))/deltastar)**2))\n",
    "        if stats[i,2] > n0:\n",
    "            sample_ext = data.iloc[:,i+1].sample(n = int(stats[i,2] - n0), random_state = 2)\n",
    "            \n",
    "        # step (ii)        \n",
    "            stats[i,3] = np.mean(np.concatenate((samples[:,i], sample_ext), axis = 0))\n",
    "        else:\n",
    "            stats[i,3] = np.mean(samples[:,i])\n",
    "        \n",
    "    # step (iii)\n",
    "    istar = np.argmax(stats[:,3])+1\n",
    "\n",
    "    # step (iv)\n",
    "    print(\"Sample\", istar, \"is the rv associated with the largest mu of\", round(max(stats[:,3]),3)) \n",
    "            \n",
    "    return(stats)"
   ]
  },
  {
   "cell_type": "code",
   "execution_count": 51,
   "metadata": {},
   "outputs": [
    {
     "name": "stdout",
     "output_type": "stream",
     "text": [
      "Sample 10 is the rv associated with the largest mu of 4.339\n"
     ]
    },
    {
     "data": {
      "text/html": [
       "<div>\n",
       "<style scoped>\n",
       "    .dataframe tbody tr th:only-of-type {\n",
       "        vertical-align: middle;\n",
       "    }\n",
       "\n",
       "    .dataframe tbody tr th {\n",
       "        vertical-align: top;\n",
       "    }\n",
       "\n",
       "    .dataframe thead th {\n",
       "        text-align: right;\n",
       "    }\n",
       "</style>\n",
       "<table border=\"1\" class=\"dataframe\">\n",
       "  <thead>\n",
       "    <tr style=\"text-align: right;\">\n",
       "      <th></th>\n",
       "      <th>Ybar^0_i</th>\n",
       "      <th>S_i^2</th>\n",
       "      <th>n_i</th>\n",
       "      <th>Ybar_i</th>\n",
       "    </tr>\n",
       "  </thead>\n",
       "  <tbody>\n",
       "    <tr>\n",
       "      <th>1</th>\n",
       "      <td>4.060</td>\n",
       "      <td>0.807</td>\n",
       "      <td>488.0</td>\n",
       "      <td>4.127</td>\n",
       "    </tr>\n",
       "    <tr>\n",
       "      <th>2</th>\n",
       "      <td>4.102</td>\n",
       "      <td>1.303</td>\n",
       "      <td>788.0</td>\n",
       "      <td>4.145</td>\n",
       "    </tr>\n",
       "    <tr>\n",
       "      <th>3</th>\n",
       "      <td>4.158</td>\n",
       "      <td>0.882</td>\n",
       "      <td>533.0</td>\n",
       "      <td>4.170</td>\n",
       "    </tr>\n",
       "    <tr>\n",
       "      <th>4</th>\n",
       "      <td>3.974</td>\n",
       "      <td>0.094</td>\n",
       "      <td>58.0</td>\n",
       "      <td>3.964</td>\n",
       "    </tr>\n",
       "    <tr>\n",
       "      <th>5</th>\n",
       "      <td>4.083</td>\n",
       "      <td>0.089</td>\n",
       "      <td>54.0</td>\n",
       "      <td>4.073</td>\n",
       "    </tr>\n",
       "    <tr>\n",
       "      <th>6</th>\n",
       "      <td>4.176</td>\n",
       "      <td>0.119</td>\n",
       "      <td>72.0</td>\n",
       "      <td>4.186</td>\n",
       "    </tr>\n",
       "    <tr>\n",
       "      <th>7</th>\n",
       "      <td>3.170</td>\n",
       "      <td>9.970</td>\n",
       "      <td>6024.0</td>\n",
       "      <td>4.010</td>\n",
       "    </tr>\n",
       "    <tr>\n",
       "      <th>8</th>\n",
       "      <td>4.132</td>\n",
       "      <td>12.469</td>\n",
       "      <td>7534.0</td>\n",
       "      <td>4.101</td>\n",
       "    </tr>\n",
       "    <tr>\n",
       "      <th>9</th>\n",
       "      <td>4.580</td>\n",
       "      <td>7.077</td>\n",
       "      <td>4276.0</td>\n",
       "      <td>4.206</td>\n",
       "    </tr>\n",
       "    <tr>\n",
       "      <th>10</th>\n",
       "      <td>4.389</td>\n",
       "      <td>11.788</td>\n",
       "      <td>7122.0</td>\n",
       "      <td>4.339</td>\n",
       "    </tr>\n",
       "  </tbody>\n",
       "</table>\n",
       "</div>"
      ],
      "text/plain": [
       "    Ybar^0_i   S_i^2     n_i  Ybar_i\n",
       "1      4.060   0.807   488.0   4.127\n",
       "2      4.102   1.303   788.0   4.145\n",
       "3      4.158   0.882   533.0   4.170\n",
       "4      3.974   0.094    58.0   3.964\n",
       "5      4.083   0.089    54.0   4.073\n",
       "6      4.176   0.119    72.0   4.186\n",
       "7      3.170   9.970  6024.0   4.010\n",
       "8      4.132  12.469  7534.0   4.101\n",
       "9      4.580   7.077  4276.0   4.206\n",
       "10     4.389  11.788  7122.0   4.339"
      ]
     },
     "execution_count": 51,
     "metadata": {},
     "output_type": "execute_result"
    }
   ],
   "source": [
    "results = Rinott(Pstar, n0, h, deltastar, data)\n",
    "results = np.round(results,3)\n",
    "results = pd.DataFrame(results) # transform into data frame\n",
    "results = results.rename(columns={0: \"Ybar^0_i\", 1: \"S_i^2\", 2: \"n_i\", 3: \"Ybar_i\"})\n",
    "results = results.rename(index = {0: 1, 1: 2, 2: 3, 3: 4, 4: 5, 5: 6, 6: 7, 7: 8, 8: 9, 9: 10})\n",
    "results.to_csv(index=True, path_or_buf = 'results.csv')\n",
    "results"
   ]
  },
  {
   "cell_type": "code",
   "execution_count": 35,
   "metadata": {},
   "outputs": [
    {
     "ename": "NameError",
     "evalue": "name 'Yijs' is not defined",
     "output_type": "error",
     "traceback": [
      "\u001b[0;31m---------------------------------------------------------------------------\u001b[0m",
      "\u001b[0;31mNameError\u001b[0m                                 Traceback (most recent call last)",
      "\u001b[0;32m<ipython-input-35-f1f90036ff1b>\u001b[0m in \u001b[0;36m<module>\u001b[0;34m\u001b[0m\n\u001b[0;32m----> 1\u001b[0;31m \u001b[0msum\u001b[0m\u001b[0;34m(\u001b[0m\u001b[0mYijs\u001b[0m\u001b[0;34m)\u001b[0m\u001b[0;34m\u001b[0m\u001b[0;34m\u001b[0m\u001b[0m\n\u001b[0m",
      "\u001b[0;31mNameError\u001b[0m: name 'Yijs' is not defined"
     ]
    }
   ],
   "source": [
    "sum(Yijs)\n"
   ]
  },
  {
   "cell_type": "code",
   "execution_count": 28,
   "metadata": {},
   "outputs": [
    {
     "name": "stdout",
     "output_type": "stream",
     "text": [
      "Sample 10 is the rv associated with the largest mu of 4.376\n"
     ]
    },
    {
     "data": {
      "text/html": [
       "<div>\n",
       "<style scoped>\n",
       "    .dataframe tbody tr th:only-of-type {\n",
       "        vertical-align: middle;\n",
       "    }\n",
       "\n",
       "    .dataframe tbody tr th {\n",
       "        vertical-align: top;\n",
       "    }\n",
       "\n",
       "    .dataframe thead th {\n",
       "        text-align: right;\n",
       "    }\n",
       "</style>\n",
       "<table border=\"1\" class=\"dataframe\">\n",
       "  <thead>\n",
       "    <tr style=\"text-align: right;\">\n",
       "      <th></th>\n",
       "      <th>Ybar^0_i</th>\n",
       "      <th>S_i^2</th>\n",
       "      <th>n_i</th>\n",
       "      <th>Ybar_i</th>\n",
       "    </tr>\n",
       "  </thead>\n",
       "  <tbody>\n",
       "    <tr>\n",
       "      <th>1</th>\n",
       "      <td>4.205</td>\n",
       "      <td>0.173</td>\n",
       "      <td>105.0</td>\n",
       "      <td>4.198</td>\n",
       "    </tr>\n",
       "    <tr>\n",
       "      <th>2</th>\n",
       "      <td>4.101</td>\n",
       "      <td>0.195</td>\n",
       "      <td>118.0</td>\n",
       "      <td>4.171</td>\n",
       "    </tr>\n",
       "    <tr>\n",
       "      <th>3</th>\n",
       "      <td>4.059</td>\n",
       "      <td>0.248</td>\n",
       "      <td>150.0</td>\n",
       "      <td>4.198</td>\n",
       "    </tr>\n",
       "    <tr>\n",
       "      <th>4</th>\n",
       "      <td>3.976</td>\n",
       "      <td>0.037</td>\n",
       "      <td>50.0</td>\n",
       "      <td>3.976</td>\n",
       "    </tr>\n",
       "    <tr>\n",
       "      <th>5</th>\n",
       "      <td>3.973</td>\n",
       "      <td>0.005</td>\n",
       "      <td>50.0</td>\n",
       "      <td>3.973</td>\n",
       "    </tr>\n",
       "    <tr>\n",
       "      <th>6</th>\n",
       "      <td>4.198</td>\n",
       "      <td>0.010</td>\n",
       "      <td>50.0</td>\n",
       "      <td>4.198</td>\n",
       "    </tr>\n",
       "    <tr>\n",
       "      <th>7</th>\n",
       "      <td>4.365</td>\n",
       "      <td>2.428</td>\n",
       "      <td>1467.0</td>\n",
       "      <td>4.075</td>\n",
       "    </tr>\n",
       "    <tr>\n",
       "      <th>8</th>\n",
       "      <td>4.210</td>\n",
       "      <td>2.474</td>\n",
       "      <td>1496.0</td>\n",
       "      <td>4.086</td>\n",
       "    </tr>\n",
       "    <tr>\n",
       "      <th>9</th>\n",
       "      <td>4.633</td>\n",
       "      <td>0.953</td>\n",
       "      <td>577.0</td>\n",
       "      <td>4.310</td>\n",
       "    </tr>\n",
       "    <tr>\n",
       "      <th>10</th>\n",
       "      <td>4.699</td>\n",
       "      <td>1.064</td>\n",
       "      <td>643.0</td>\n",
       "      <td>4.376</td>\n",
       "    </tr>\n",
       "  </tbody>\n",
       "</table>\n",
       "</div>"
      ],
      "text/plain": [
       "    Ybar^0_i  S_i^2     n_i  Ybar_i\n",
       "1      4.205  0.173   105.0   4.198\n",
       "2      4.101  0.195   118.0   4.171\n",
       "3      4.059  0.248   150.0   4.198\n",
       "4      3.976  0.037    50.0   3.976\n",
       "5      3.973  0.005    50.0   3.973\n",
       "6      4.198  0.010    50.0   4.198\n",
       "7      4.365  2.428  1467.0   4.075\n",
       "8      4.210  2.474  1496.0   4.086\n",
       "9      4.633  0.953   577.0   4.310\n",
       "10     4.699  1.064   643.0   4.376"
      ]
     },
     "execution_count": 28,
     "metadata": {},
     "output_type": "execute_result"
    }
   ],
   "source": [
    "results = Rinott(Pstar, n0, h, deltastar, data)\n",
    "results = np.round(results,3)\n",
    "results = pd.DataFrame(results) # transform into data frame\n",
    "results = results.rename(columns={0: \"Ybar^0_i\", 1: \"S_i^2\", 2: \"n_i\", 3: \"Ybar_i\"})\n",
    "results = results.rename(index = {0: 1, 1: 2, 2: 3, 3: 4, 4: 5, 5: 6, 6: 7, 7: 8, 8: 9, 9: 10})\n",
    "results.to_csv(index=True, path_or_buf = '/Users/fietekrutein/Documents/University/University of Washington/Courses/2020 Q2/IND E 599 Data-driven Optimization/homework/HW 1/Ex3_results.csv')\n",
    "results"
   ]
  },
  {
   "cell_type": "markdown",
   "metadata": {},
   "source": [
    "\\section*{Exercise 5}"
   ]
  },
  {
   "cell_type": "code",
   "execution_count": 7,
   "metadata": {},
   "outputs": [],
   "source": [
    "# set function generator for objective \n",
    "def Y(x, sigma):\n",
    "    return(-x**2 + rd.normalvariate(mu = 0, sigma = sigma))\n",
    "\n",
    "# initialize the Kiefer-Wolfowitz algorithm\n",
    "def K_W_alg(n, sigma):\n",
    "    # initialize array to hold values\n",
    "    vals = np.empty([0,0])\n",
    "    # initialize x1\n",
    "    vals = np.append(vals, rd.uniform(0, 1))\n",
    "    # iterate for each sample\n",
    "    for i in np.arange(1,n+1,1):\n",
    "        # generate a_n and c_n sequence values\n",
    "        a_n = 1/i\n",
    "        c_n = 1/(i**(1/3))\n",
    "        # calculate next x_n\n",
    "        vals = np.append(vals, vals[i-1] + a_n * ((Y((vals[i-1] + c_n), sigma) - Y((vals[i-1] - c_n), sigma))/(2*c_n)))\n",
    "    return(vals)"
   ]
  },
  {
   "cell_type": "code",
   "execution_count": 8,
   "metadata": {},
   "outputs": [],
   "source": [
    "# generate a function that generates multiple runs\n",
    "def run(n, sigma, iters):\n",
    "    \n",
    "    # initialize a matrix holding the values\n",
    "    # create empty rows that can hold the mean and sd after filling\n",
    "    runs = np.zeros(n+1)\n",
    "    runs = np.vstack([runs, np.zeros(n+1)])\n",
    "    \n",
    "    # add to the matrix for every additional run\n",
    "    for i in np.arange(0,iters,1):\n",
    "        runs = np.vstack([runs, K_W_alg(n, sigma)])\n",
    "    runs = runs.T\n",
    "        \n",
    "    # calculate averages and safe to first two columns\n",
    "    runs[:,0] = np.std(runs[:,2:], axis = 1)\n",
    "    runs[:,1] = np.mean(runs[:,2:], axis = 1)\n",
    "    \n",
    "    return(runs)"
   ]
  },
  {
   "cell_type": "code",
   "execution_count": 9,
   "metadata": {},
   "outputs": [
    {
     "name": "stdout",
     "output_type": "stream",
     "text": [
      "The average obtained for x_1001 is for sigma = 1: 0.0012 , for sigma = 5 -0.0221 , and for sigma = 10 -0.2715\n"
     ]
    }
   ],
   "source": [
    "# set reproducible seed\n",
    "rd.seed(123)\n",
    "\n",
    "# generate iterations for each sigma setting\n",
    "rec_1 = run(n = 1000, sigma = 1, iters = 30) \n",
    "rec_5 = run(n = 1000, sigma = 5, iters = 30) \n",
    "rec_10 = run(n = 1000, sigma = 10, iters = 30)\n",
    "\n",
    "print(\"The average obtained for x_1001 is for sigma = 1:\", \n",
    "      round(rec_1[1000, 1],4), \", for sigma = 5\", round(rec_5[1000, 1],4), \n",
    "      \", and for sigma = 10\", round(rec_10[1000,1],4))"
   ]
  },
  {
   "cell_type": "code",
   "execution_count": 15,
   "metadata": {},
   "outputs": [
    {
     "data": {
      "image/png": "[encoded data removed]",
      "text/plain": [
       "<Figure size 432x360 with 1 Axes>"
      ]
     },
     "metadata": {},
     "output_type": "display_data"
    },
    {
     "data": {
      "text/plain": [
       "<Figure size 432x288 with 0 Axes>"
      ]
     },
     "metadata": {},
     "output_type": "display_data"
    }
   ],
   "source": [
    "# Let's plot this all together for averages\n",
    "import matplotlib.pyplot as plt\n",
    "import seaborn as sns\n",
    "plt.style.use('seaborn-whitegrid')\n",
    "plt.figure(figsize=[6,5])\n",
    "\n",
    "X = np.arange(0,1001,1)\n",
    "Y1 = rec_1[:,1]\n",
    "Y2 = rec_5[:,1]\n",
    "Y3 = rec_10[:,1]\n",
    "\n",
    "plt.title(\"Averaged values of x from 30 runs over iterations\")\n",
    "plt.scatter(X,Y1,color='g', label = 'sigma = 1', alpha=0.5)\n",
    "plt.scatter(X,Y2,color='k', label = 'sigma = 5', alpha=0.5)\n",
    "plt.scatter(X,Y3,color='r', label = 'sigma = 10', alpha=0.5)\n",
    "plt.ylabel('x')\n",
    "plt.xlabel('number of iterations')\n",
    "plt.legend(numpoints = 1)\n",
    "plt.show()\n",
    "\n",
    "plt.savefig('avg_xn.png')"
   ]
  },
  {
   "cell_type": "code",
   "execution_count": 16,
   "metadata": {},
   "outputs": [
    {
     "data": {
      "image/png": "[encoded data removed]",
      "text/plain": [
       "<Figure size 432x360 with 1 Axes>"
      ]
     },
     "metadata": {},
     "output_type": "display_data"
    },
    {
     "data": {
      "text/plain": [
       "<Figure size 432x288 with 0 Axes>"
      ]
     },
     "metadata": {},
     "output_type": "display_data"
    }
   ],
   "source": [
    "# Let's plot this for standard deviation\n",
    "import matplotlib.pyplot as plt\n",
    "import seaborn as sns\n",
    "plt.style.use('seaborn-whitegrid')\n",
    "plt.figure(figsize=[6,5])\n",
    "\n",
    "X = np.arange(0,1001,1)\n",
    "Y1 = rec_1[:,0]\n",
    "Y2 = rec_5[:,0]\n",
    "Y3 = rec_10[:,0]\n",
    "\n",
    "plt.title(\"Evolution of sample standard deviation from 30 runs over iterations\")\n",
    "plt.scatter(X,Y1,color='g', label = 'sigma = 1', alpha=0.5)\n",
    "plt.scatter(X,Y2,color='k', label = 'sigma = 5', alpha=0.5)\n",
    "plt.scatter(X,Y3,color='r', label = 'sigma = 10', alpha=0.5)\n",
    "plt.ylabel('sample standard deviation')\n",
    "plt.xlabel('number of iterations')\n",
    "plt.legend(numpoints = 1)\n",
    "plt.show()\n",
    "\n",
    "plt.savefig('sample_sd.png')"
   ]
  },
  {
   "cell_type": "code",
   "execution_count": null,
   "metadata": {},
   "outputs": [],
   "source": []
  }
 ],
 "metadata": {
  "kernelspec": {
   "display_name": "Python 3",
   "language": "python",
   "name": "python3"
  },
  "language_info": {
   "codemirror_mode": {
    "name": "ipython",
    "version": 3
   },
   "file_extension": ".py",
   "mimetype": "text/x-python",
   "name": "python",
   "nbconvert_exporter": "python",
   "pygments_lexer": "ipython3",
   "version": "3.7.6"
  }
 },
 "nbformat": 4,
 "nbformat_minor": 4
}
