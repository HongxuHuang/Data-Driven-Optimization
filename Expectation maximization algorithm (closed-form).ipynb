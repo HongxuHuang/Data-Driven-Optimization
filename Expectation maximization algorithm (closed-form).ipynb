{
 "cells": [
  {
   "cell_type": "markdown",
   "metadata": {},
   "source": [
    "Expectation Maximization Algorithm"
   ]
  },
  {
   "cell_type": "code",
   "execution_count": 1,
   "metadata": {},
   "outputs": [],
   "source": [
    "# import packages\n",
    "\n",
    "import pandas as pd \n",
    "import numpy as np\n",
    "import cvxpy as cp "
   ]
  },
  {
   "cell_type": "code",
   "execution_count": 2,
   "metadata": {},
   "outputs": [],
   "source": [
    "coins = pd.read_excel(r'coins.xlsx', header = 1)\n",
    "coinsdata = coins.iloc[:,2:].values"
   ]
  },
  {
   "cell_type": "code",
   "execution_count": 3,
   "metadata": {},
   "outputs": [],
   "source": [
    "# experiment parameters\n",
    "m = coinsdata.shape[0]\n",
    "n = coinsdata.shape[1]"
   ]
  },
  {
   "cell_type": "code",
   "execution_count": 4,
   "metadata": {},
   "outputs": [],
   "source": [
    "k = np.count_nonzero(coinsdata == 'H', axis = 1)\n",
    "notk = np.count_nonzero(coinsdata == 'T', axis = 1)"
   ]
  },
  {
   "cell_type": "code",
   "execution_count": 5,
   "metadata": {},
   "outputs": [],
   "source": [
    "# helper function to define the rs\n",
    "\n",
    "def rminus1_j(theta0, theta1, k, notk, j):\n",
    "    return(theta1**k[j] * (1-theta1)**notk[j])/(theta0**k[j] * (1-theta0)**notk[j])"
   ]
  },
  {
   "cell_type": "code",
   "execution_count": 6,
   "metadata": {},
   "outputs": [],
   "source": [
    "# calculate rs for every j in m\n",
    "def rminus1(theta0, theta1, k, notk):\n",
    "    rminus1 = np.empty(coinsdata.shape[0])\n",
    "    for j in range(coinsdata.shape[0]):\n",
    "        rminus1[j] = rminus1_j(theta0, theta1, k, notk, j)\n",
    "    return(rminus1)"
   ]
  },
  {
   "cell_type": "code",
   "execution_count": 7,
   "metadata": {},
   "outputs": [],
   "source": [
    "# calculate numerators and dnominators\n",
    "\n",
    "def calc_nums_denoms(theta0, theta1):\n",
    "    num_0_vec = np.empty(coinsdata.shape[0])\n",
    "    denom_0_vec = np.empty(coinsdata.shape[0])\n",
    "    num_1_vec = np.empty(coinsdata.shape[0])\n",
    "    denom_1_vec = np.empty(coinsdata.shape[0])\n",
    "\n",
    "    # calculate for each j and save to vector\n",
    "\n",
    "    for j in range(coinsdata.shape[0]):\n",
    "        rminus1j_val = rminus1(theta0, theta1, k, notk)[j]\n",
    "        num_0_vec[j] = (rminus1j_val)/(1 + rminus1j_val) * k[j]\n",
    "        denom_0_vec[j] = (rminus1j_val)/(1 + rminus1j_val)\n",
    "        num_1_vec[j] = 1/(1 + rminus1j_val) * k[j]\n",
    "        denom_1_vec[j] = 1/(1 + rminus1j_val)\n",
    "    \n",
    "    return(num_0_vec, denom_0_vec, num_1_vec, denom_1_vec)"
   ]
  },
  {
   "cell_type": "code",
   "execution_count": 8,
   "metadata": {},
   "outputs": [
    {
     "name": "stdout",
     "output_type": "stream",
     "text": [
      "The theta0 after 10 iterations is:  0.8\n",
      "The theta1 after 10 iterations is:  0.52\n"
     ]
    }
   ],
   "source": [
    "# calculate new thetas\n",
    "T = 10\n",
    "\n",
    "# initial guesses\n",
    "theta0_hat = 0.6\n",
    "theta1_hat = 0.5\n",
    "\n",
    "# iterate for the T iterations\n",
    "\n",
    "for t in range(T):\n",
    "    num_0_vec, denom_0_vec, num_1_vec, denom_1_vec = calc_nums_denoms(theta0_hat, theta1_hat)\n",
    "    \n",
    "    theta0_hat = np.sum(num_0_vec)/(n * np.sum(denom_0_vec))\n",
    "    theta1_hat = np.sum(num_1_vec)/(n * np.sum(denom_1_vec))\n",
    "    \n",
    "print('The theta0 after 10 iterations is: ', np.round(theta0_hat,2))\n",
    "print('The theta1 after 10 iterations is: ', np.round(theta1_hat,2))"
   ]
  }
 ],
 "metadata": {
  "kernelspec": {
   "display_name": "Python 3",
   "language": "python",
   "name": "python3"
  },
  "language_info": {
   "codemirror_mode": {
    "name": "ipython",
    "version": 3
   },
   "file_extension": ".py",
   "mimetype": "text/x-python",
   "name": "python",
   "nbconvert_exporter": "python",
   "pygments_lexer": "ipython3",
   "version": "3.7.6"
  }
 },
 "nbformat": 4,
 "nbformat_minor": 4
}
