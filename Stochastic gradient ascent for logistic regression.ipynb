{
 "cells": [
  {
   "cell_type": "markdown",
   "metadata": {},
   "source": [
    "Application of stochastic gradient ascent for logistic regression"
   ]
  },
  {
   "cell_type": "code",
   "execution_count": 1,
   "metadata": {},
   "outputs": [],
   "source": [
    "import numpy as np\n",
    "import pandas as pd\n",
    "from scipy import stats as st"
   ]
  },
  {
   "cell_type": "code",
   "execution_count": 2,
   "metadata": {},
   "outputs": [],
   "source": [
    "df5 = pd.read_excel (r'/Users/fietekrutein/Documents/University/University of Washington/Courses/2020 Q2/IND E 599 Data-driven Optimization/homework/HW 2/admit.xlsx', header = 0)"
   ]
  },
  {
   "cell_type": "code",
   "execution_count": 3,
   "metadata": {},
   "outputs": [],
   "source": [
    "df5 = df5.iloc[:,:4]\n",
    "X = df5.iloc[:,1:].values\n",
    "y = df5.iloc[:,0].values"
   ]
  },
  {
   "cell_type": "code",
   "execution_count": 4,
   "metadata": {},
   "outputs": [],
   "source": [
    "# define gradient calculator\n",
    "def grad_calc(y, x, a):\n",
    "    grad = np.empty([x.shape[1], 1])\n",
    "    for i in np.arange(grad.shape[0]):\n",
    "        # calculate for each index of the gradient\n",
    "        grad[i] = (y - (1/(1 + np.exp(-np.dot(a,x.T))))) * x[0][i]\n",
    "    return(grad.T)"
   ]
  },
  {
   "cell_type": "code",
   "execution_count": 5,
   "metadata": {},
   "outputs": [],
   "source": [
    "# define stochastic gradient ascent algorithm\n",
    "def stoch_grad_ASC(r, m, X, y):\n",
    "    np.random.seed(123) # make the results reproducible\n",
    "\n",
    "    r = 1\n",
    "    m = 1000\n",
    "    n = X.shape[0]\n",
    "    coeffs = []\n",
    "\n",
    "    for k in np.arange(r):\n",
    "        a = np.empty([m, X.shape[1]])\n",
    "        # step 1\n",
    "        # arbitrarily initialize w1\n",
    "        a[0,:] = np.random.rand(1,X.shape[1])\n",
    "        print(a[0,:])\n",
    "\n",
    "        # step 2\n",
    "        for i in (np.arange(m-1) + 1):\n",
    "            # (a) choose index uniformly at random\n",
    "            index = st.randint.rvs(0, n, size=1)\n",
    "\n",
    "            # (b) choose step-size sm > 0\n",
    "            sm = 1/m\n",
    "\n",
    "            # (c) update w\n",
    "            a[i,:] = a[i-1,:] + sm * grad_calc(y[index], X[index,], a[i-1,:])\n",
    "            \n",
    "        # step 3\n",
    "        #print(a)\n",
    "        coeffs.append(a[m-1,:])\n",
    "            \n",
    "    return(coeffs)"
   ]
  },
  {
   "cell_type": "code",
   "execution_count": 6,
   "metadata": {},
   "outputs": [
    {
     "name": "stdout",
     "output_type": "stream",
     "text": [
      "[0.69646919 0.28613933 0.22685145]\n"
     ]
    }
   ],
   "source": [
    "coefficients = stoch_grad_ASC(r = 30, m = 1000, X = X, y = y)"
   ]
  },
  {
   "cell_type": "code",
   "execution_count": 7,
   "metadata": {},
   "outputs": [
    {
     "data": {
      "text/plain": [
       "array([-0.1705613 ,  0.25962486,  0.08282202])"
      ]
     },
     "execution_count": 7,
     "metadata": {},
     "output_type": "execute_result"
    }
   ],
   "source": [
    "np.mean(coefficients, axis = 0)"
   ]
  }
 ],
 "metadata": {
  "kernelspec": {
   "display_name": "Python 3",
   "language": "python",
   "name": "python3"
  },
  "language_info": {
   "codemirror_mode": {
    "name": "ipython",
    "version": 3
   },
   "file_extension": ".py",
   "mimetype": "text/x-python",
   "name": "python",
   "nbconvert_exporter": "python",
   "pygments_lexer": "ipython3",
   "version": "3.7.6"
  }
 },
 "nbformat": 4,
 "nbformat_minor": 4
}
