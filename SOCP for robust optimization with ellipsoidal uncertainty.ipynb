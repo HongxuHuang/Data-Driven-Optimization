{
 "cells": [
  {
   "cell_type": "markdown",
   "metadata": {},
   "source": [
    "Second order cone programming for robust optimization with ellipsoidal uncertainty"
   ]
  },
  {
   "cell_type": "code",
   "execution_count": 1,
   "metadata": {},
   "outputs": [],
   "source": [
    "# import packages\n",
    "\n",
    "import pandas as pd \n",
    "import numpy as np\n",
    "import cvxpy as cp "
   ]
  },
  {
   "cell_type": "code",
   "execution_count": 9,
   "metadata": {},
   "outputs": [],
   "source": [
    "portfolio = pd.read_excel(r'/Users/fietekrutein/Documents/University/University of Washington/Courses/2020 Q2/IND E 599 Data-driven Optimization/homework/HW 3/portfolio.xlsx')"
   ]
  },
  {
   "cell_type": "code",
   "execution_count": 10,
   "metadata": {},
   "outputs": [],
   "source": [
    "# obtain data\n",
    "P = portfolio.iloc[5:9,:4].values\n",
    "P = np.asmatrix(P).astype(np.float)\n",
    "returns = portfolio.iloc[:3,1].values"
   ]
  },
  {
   "cell_type": "code",
   "execution_count": 11,
   "metadata": {},
   "outputs": [
    {
     "name": "stdout",
     "output_type": "stream",
     "text": [
      "\n",
      "The optimal value is 8.484505965993513\n",
      "The solution for f is\n",
      "[1. 0. 0.]\n",
      "The solution for z is\n",
      "8.484505965993513\n",
      "A dual solution corresponding to the inequality constraints is\n",
      "1.0000000020228625\n"
     ]
    }
   ],
   "source": [
    "import scipy as sp\n",
    "\n",
    "# solve the robust optimization problem in cvxpy\n",
    "\n",
    "# data\n",
    "\n",
    "A = sp.linalg.sqrtm(np.asmatrix(P))\n",
    "r = returns\n",
    "\n",
    "# variable definition\n",
    "\n",
    "f = cp.Variable(len(r), nonneg = True) # lambda variable\n",
    "z = cp.Variable()\n",
    "\n",
    "# problem definition\n",
    "\n",
    "prob = cp.Problem(cp.Maximize(z),\n",
    "                [(f.T @ r - cp.pnorm(f.T @ np.linalg.inv(A), 2)) >= z,\n",
    "                cp.sum(f) == 1])\n",
    "\n",
    "prob.solve()\n",
    "\n",
    "# Print result.\n",
    "print(\"\\nThe optimal value is\", prob.value)\n",
    "print(\"The solution for f is\")\n",
    "print(np.round(f.value, 3))\n",
    "print(\"The solution for z is\")\n",
    "print(z.value)\n",
    "print(\"A dual solution corresponding to the inequality constraints is\")\n",
    "print(prob.constraints[0].dual_value)"
   ]
  }
 ],
 "metadata": {
  "kernelspec": {
   "display_name": "Python 3",
   "language": "python",
   "name": "python3"
  },
  "language_info": {
   "codemirror_mode": {
    "name": "ipython",
    "version": 3
   },
   "file_extension": ".py",
   "mimetype": "text/x-python",
   "name": "python",
   "nbconvert_exporter": "python",
   "pygments_lexer": "ipython3",
   "version": "3.7.6"
  }
 },
 "nbformat": 4,
 "nbformat_minor": 4
}
