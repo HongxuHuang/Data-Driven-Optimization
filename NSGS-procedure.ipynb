{
 "cells": [
  {
   "cell_type": "markdown",
   "metadata": {},
   "source": [
    "NSGS Procedure for selecting a population with the largest mean"
   ]
  },
  {
   "cell_type": "code",
   "execution_count": 1,
   "metadata": {},
   "outputs": [],
   "source": [
    "import numpy as np\n",
    "import pandas as pd\n",
    "import random as rd\n",
    "from scipy import stats as st\n",
    "import itertools"
   ]
  },
  {
   "cell_type": "code",
   "execution_count": 2,
   "metadata": {},
   "outputs": [],
   "source": [
    "df = pd.read_excel (r'rinott.xlsx')\n",
    "#print (df)"
   ]
  },
  {
   "cell_type": "code",
   "execution_count": 3,
   "metadata": {},
   "outputs": [],
   "source": [
    "# set parameters from file\n",
    "P1 = 0.95\n",
    "n0 = 50\n",
    "h = df.iloc[2,1]\n",
    "deltastar = 0.15\n",
    "P0 = 0.98"
   ]
  },
  {
   "cell_type": "code",
   "execution_count": 4,
   "metadata": {},
   "outputs": [],
   "source": [
    "# set data points\n",
    "data = df.iloc[10:,:]\n",
    "#data"
   ]
  },
  {
   "cell_type": "code",
   "execution_count": 5,
   "metadata": {},
   "outputs": [],
   "source": [
    "def calc_t(k, dfr, P0):\n",
    "    return(st.t.ppf(P0**(1/(k-1)), dfr))"
   ]
  },
  {
   "cell_type": "code",
   "execution_count": 6,
   "metadata": {},
   "outputs": [],
   "source": [
    "def check_largest(list, val):  \n",
    "    # traverse in the list \n",
    "    for x in list: \n",
    "  \n",
    "        # compare with all the values \n",
    "        # with val \n",
    "        if val <= x: \n",
    "            return (False)\n",
    "    return (True)"
   ]
  },
  {
   "cell_type": "code",
   "execution_count": 7,
   "metadata": {},
   "outputs": [],
   "source": [
    "def NSGS(P1, P0, n0, h, deltastar, data):\n",
    "    \n",
    "    # Stage 1\n",
    "\n",
    "    # step (i)\n",
    "    n0 = n0\n",
    "    P0 = P0\n",
    "    P1 = P1\n",
    "    Pstar = (P0 + P1) - 1\n",
    "    dfr = n0 - 1\n",
    "    h = h\n",
    "    k = data.shape[1]-1\n",
    "\n",
    "    # step (ii)\n",
    "    # define a frame that holds all samples (n0 rows, k batches)\n",
    "    samples = np.empty([n0, data.shape[1]])\n",
    "    # collect samples\n",
    "    for i in np.arange(0, data.shape[1]-1, step = 1):\n",
    "        samples[:,i] = data.iloc[:n0,i+1]#data.iloc[:,i+1].sample(n=n0, random_state=1)\n",
    "\n",
    "    # step (iii)\n",
    "    # summary statistics calculations\n",
    "    stats = np.empty([data.shape[1]-1,4])\n",
    "    for i in np.arange(0, data.shape[1]-1, step = 1):\n",
    "        stats[i,0] = np.mean(samples[:,i])\n",
    "        stats[i,1] = np.var(samples[:,i], ddof = 1)\n",
    "\n",
    "    # step (iv)\n",
    "    # calculate W's for pairwise sample differences\n",
    "    w_rec = np.empty([data.shape[1]-1, data.shape[1]-1])\n",
    "    for i,j in itertools.product(np.arange(0, data.shape[1]-1, step = 1), \n",
    "                               np.arange(0, data.shape[1]-1, step = 1)): \n",
    "        if i == j:\n",
    "            w_rec[i,j] = 0\n",
    "        elif i != j:\n",
    "            w_rec[i,j] = calc_t(k, dfr, P0) * np.sqrt((stats[i,1] + stats[j,1])/(n0))\n",
    "\n",
    "    # step (v)\n",
    "    # define I\n",
    "    I = []\n",
    "    for i in np.arange(0,data.shape[1]-1, step = 1):\n",
    "        gaps = []\n",
    "        for j in np.arange(0,data.shape[1]-1, step = 1):\n",
    "            if i != j:\n",
    "                gaps.append(stats[j,0] - max(0, w_rec[i,j] - deltastar))\n",
    "        if(check_largest(gaps, stats[i,0])):\n",
    "            I.append(i)\n",
    "\n",
    "    # step (v)\n",
    "    if len(I) == 1:\n",
    "        print(\"Sample\", I[0], \"is the rv associated with the largest mu of\", round(max(stats[:,0]),3)) \n",
    "        return(stats)\n",
    "    else:\n",
    "        notI = np.delete(np.arange(0,data.shape[1]-1, step = 1), I, axis=0)\n",
    "        print(\"Eliminated samples\", notI+1, \"in first stage\")\n",
    "        \n",
    "        # Stage 2\n",
    "\n",
    "        # step (i)\n",
    "        I = np.array(I)\n",
    "        samples_red = samples[:,I+1]\n",
    "        stats_red = stats[I,:]\n",
    "        for i in np.arange(0, samples_red.shape[1], step = 1):\n",
    "            stats_red[i,2] = max(n0, np.ceil(((h*np.sqrt(stats_red[i,1]))/deltastar)**2))\n",
    "            if stats_red[i,2] > n0:\n",
    "                sample_ext = data.iloc[:,i+1].sample(n = int(stats_red[i,2] - n0), random_state = 2)\n",
    "\n",
    "            # step (ii)        \n",
    "                stats_red[i,3] = np.mean(np.concatenate((samples_red[:,i], sample_ext), axis = 0))\n",
    "            else:\n",
    "                stats_red[i,3] = np.mean(samples_red[:,i])\n",
    "\n",
    "        # step (iii)\n",
    "        istar = np.argmax(stats_red[:,3]) + 1\n",
    "\n",
    "        # step (iv)\n",
    "        print(\"Sample\", istar, \"is the rv associated with the largest mu of\", round(max(stats_red[:,3]),3)) \n",
    "        return(stats_red)"
   ]
  },
  {
   "cell_type": "code",
   "execution_count": 8,
   "metadata": {},
   "outputs": [
    {
     "name": "stdout",
     "output_type": "stream",
     "text": [
      "Eliminated samples [4 5] in first stage\n",
      "Sample 6 is the rv associated with the largest mu of 4.202\n"
     ]
    },
    {
     "data": {
      "text/html": [
       "<div>\n",
       "<style scoped>\n",
       "    .dataframe tbody tr th:only-of-type {\n",
       "        vertical-align: middle;\n",
       "    }\n",
       "\n",
       "    .dataframe tbody tr th {\n",
       "        vertical-align: top;\n",
       "    }\n",
       "\n",
       "    .dataframe thead th {\n",
       "        text-align: right;\n",
       "    }\n",
       "</style>\n",
       "<table border=\"1\" class=\"dataframe\">\n",
       "  <thead>\n",
       "    <tr style=\"text-align: right;\">\n",
       "      <th></th>\n",
       "      <th>Ybar^0_i</th>\n",
       "      <th>S_i^2</th>\n",
       "      <th>n_i</th>\n",
       "      <th>Ybar_i</th>\n",
       "    </tr>\n",
       "  </thead>\n",
       "  <tbody>\n",
       "    <tr>\n",
       "      <th>1</th>\n",
       "      <td>4.060</td>\n",
       "      <td>0.807</td>\n",
       "      <td>488.0</td>\n",
       "      <td>4.131000e+00</td>\n",
       "    </tr>\n",
       "    <tr>\n",
       "      <th>2</th>\n",
       "      <td>4.102</td>\n",
       "      <td>1.303</td>\n",
       "      <td>788.0</td>\n",
       "      <td>4.149000e+00</td>\n",
       "    </tr>\n",
       "    <tr>\n",
       "      <th>3</th>\n",
       "      <td>4.158</td>\n",
       "      <td>0.882</td>\n",
       "      <td>533.0</td>\n",
       "      <td>4.153000e+00</td>\n",
       "    </tr>\n",
       "    <tr>\n",
       "      <th>6</th>\n",
       "      <td>4.176</td>\n",
       "      <td>0.119</td>\n",
       "      <td>72.0</td>\n",
       "      <td>3.400000e+00</td>\n",
       "    </tr>\n",
       "    <tr>\n",
       "      <th>7</th>\n",
       "      <td>3.170</td>\n",
       "      <td>9.970</td>\n",
       "      <td>6024.0</td>\n",
       "      <td>4.106000e+00</td>\n",
       "    </tr>\n",
       "    <tr>\n",
       "      <th>8</th>\n",
       "      <td>4.132</td>\n",
       "      <td>12.469</td>\n",
       "      <td>7534.0</td>\n",
       "      <td>4.202000e+00</td>\n",
       "    </tr>\n",
       "    <tr>\n",
       "      <th>9</th>\n",
       "      <td>4.580</td>\n",
       "      <td>7.077</td>\n",
       "      <td>4276.0</td>\n",
       "      <td>4.003000e+00</td>\n",
       "    </tr>\n",
       "    <tr>\n",
       "      <th>10</th>\n",
       "      <td>4.389</td>\n",
       "      <td>11.788</td>\n",
       "      <td>7122.0</td>\n",
       "      <td>-2.605024e+246</td>\n",
       "    </tr>\n",
       "  </tbody>\n",
       "</table>\n",
       "</div>"
      ],
      "text/plain": [
       "    Ybar^0_i   S_i^2     n_i         Ybar_i\n",
       "1      4.060   0.807   488.0   4.131000e+00\n",
       "2      4.102   1.303   788.0   4.149000e+00\n",
       "3      4.158   0.882   533.0   4.153000e+00\n",
       "6      4.176   0.119    72.0   3.400000e+00\n",
       "7      3.170   9.970  6024.0   4.106000e+00\n",
       "8      4.132  12.469  7534.0   4.202000e+00\n",
       "9      4.580   7.077  4276.0   4.003000e+00\n",
       "10     4.389  11.788  7122.0 -2.605024e+246"
      ]
     },
     "execution_count": 8,
     "metadata": {},
     "output_type": "execute_result"
    }
   ],
   "source": [
    "results = NSGS(P1, P0, n0, h, deltastar, data)\n",
    "results = np.round(results,3)\n",
    "results = pd.DataFrame(results) # transform into data frame\n",
    "results = results.rename(columns={0: \"Ybar^0_i\", 1: \"S_i^2\", 2: \"n_i\", 3: \"Ybar_i\"})\n",
    "results = results.rename(index = {0: 1, 1: 2, 2: 3, 3: 6, 4: 7, 5: 8, 6: 9, 7: 10})\n",
    "results.to_csv(index=True, path_or_buf = 'results.csv')\n",
    "results"
   ]
  },
  {
   "cell_type": "code",
   "execution_count": null,
   "metadata": {},
   "outputs": [],
   "source": []
  }
 ],
 "metadata": {
  "kernelspec": {
   "display_name": "Python 3",
   "language": "python",
   "name": "python3"
  },
  "language_info": {
   "codemirror_mode": {
    "name": "ipython",
    "version": 3
   },
   "file_extension": ".py",
   "mimetype": "text/x-python",
   "name": "python",
   "nbconvert_exporter": "python",
   "pygments_lexer": "ipython3",
   "version": "3.7.6"
  }
 },
 "nbformat": 4,
 "nbformat_minor": 4
}
