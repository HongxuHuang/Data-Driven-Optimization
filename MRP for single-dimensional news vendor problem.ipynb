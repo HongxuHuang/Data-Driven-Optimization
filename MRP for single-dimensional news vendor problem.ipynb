{
 "cells": [
  {
   "cell_type": "markdown",
   "metadata": {},
   "source": [
    "Multiple Replications Procedure for single-dimensional newsvendor problem"
   ]
  },
  {
   "cell_type": "code",
   "execution_count": 1,
   "metadata": {},
   "outputs": [],
   "source": [
    "import numpy as np\n",
    "import pandas as pd\n",
    "from scipy import stats as st\n",
    "import cvxpy as cp"
   ]
  },
  {
   "cell_type": "code",
   "execution_count": 2,
   "metadata": {},
   "outputs": [],
   "source": [
    "df2 = pd.read_excel (r'demand.xlsx')"
   ]
  },
  {
   "cell_type": "code",
   "execution_count": 3,
   "metadata": {
    "scrolled": true
   },
   "outputs": [],
   "source": [
    "data = df2.iloc[1:,2:]\n",
    "#data"
   ]
  },
  {
   "cell_type": "code",
   "execution_count": 4,
   "metadata": {},
   "outputs": [],
   "source": [
    "# cost parameters\n",
    "c = 0.5 # purchase cost\n",
    "s = 1 # sales cost"
   ]
  },
  {
   "cell_type": "code",
   "execution_count": 5,
   "metadata": {},
   "outputs": [],
   "source": [
    "# MRP parameters\n",
    "alpha = 0.05 # confidence\n",
    "xhat = 0.75 # order quantity"
   ]
  },
  {
   "cell_type": "code",
   "execution_count": 6,
   "metadata": {},
   "outputs": [],
   "source": [
    "def PN_solve(demand, s, c, j):\n",
    "    x = cp.Variable(1)\n",
    "    term = 0\n",
    "    for i in np.arange(0,demand.shape[0], 1):\n",
    "        term += (s * ((x + demand.iloc[i,j] - cp.abs(x - demand.iloc[i,j]))/2) - c * x)\n",
    "    #print (term)\n",
    "    objective = cp.Maximize((1/demand.shape[0]) * term)\n",
    "    prob = cp.Problem(objective)\n",
    "    result = prob.solve()\n",
    "    #print(\"The optimum is reached at: \", result)\n",
    "    #print(\"The optimal values for x are: \", x.value)\n",
    "    return(x.value)"
   ]
  },
  {
   "cell_type": "code",
   "execution_count": 7,
   "metadata": {},
   "outputs": [],
   "source": [
    "def Gjnx_calc(demand, xstar, xhat, j):\n",
    "    term = 0\n",
    "    for i in np.arange(0,demand.shape[0], 1):\n",
    "        term += ((s * ((xhat + demand.iloc[i,j] - abs(xhat - demand.iloc[i,j]))/2) - c * xhat) - \n",
    "                 (s * ((xstar + demand.iloc[i,j] - abs(xstar - demand.iloc[i,j]))/2) - c * xstar))\n",
    "    #print(term)\n",
    "    return(term)"
   ]
  },
  {
   "cell_type": "code",
   "execution_count": 8,
   "metadata": {},
   "outputs": [],
   "source": [
    "# define MRP function for single-dimensional newsvendor problem\n",
    "def MRP_NV(alpha, xhat, data):\n",
    "    \n",
    "    # step 1\n",
    "    buy = np.empty([1, data.shape[1]])\n",
    "    Gjnx = np.empty([1, data.shape[1]])\n",
    "    for j in np.arange(0,data.shape[1],1):\n",
    "        # step 1.a -> solve P(n)\n",
    "        xstar = PN_solve(data, s, c, j)\n",
    "        buy[0,j] = xstar\n",
    "        # step 1.b -> calculate Gnj(xhat)\n",
    "        Gjnx[0,j] = (1/data.shape[0]) * Gjnx_calc(data, xstar, xhat, j) \n",
    "        \n",
    "    # step 2\n",
    "    # calculate sample mean\n",
    "    Gbar_nm_xhat = np.mean(Gjnx)\n",
    "    # calculate sample variance\n",
    "    Var_nm_xhat = np.var(Gjnx, ddof = 1)\n",
    "    \n",
    "    # step 3\n",
    "    CI = [Gbar_nm_xhat + st.t.ppf(1-alpha, data.shape[1]-1) * ((np.sqrt(Var_nm_xhat))/(np.sqrt(data.shape[1]))), 0]\n",
    "    print(\"CI:\", CI)\n",
    "    return(CI)"
   ]
  },
  {
   "cell_type": "code",
   "execution_count": 9,
   "metadata": {},
   "outputs": [
    {
     "name": "stdout",
     "output_type": "stream",
     "text": [
      "CI: [-0.0014218131006010493, 0]\n"
     ]
    }
   ],
   "source": [
    "y = MRP_NV(alpha, xhat, data)"
   ]
  }
 ],
 "metadata": {
  "kernelspec": {
   "display_name": "Python 3",
   "language": "python",
   "name": "python3"
  },
  "language_info": {
   "codemirror_mode": {
    "name": "ipython",
    "version": 3
   },
   "file_extension": ".py",
   "mimetype": "text/x-python",
   "name": "python",
   "nbconvert_exporter": "python",
   "pygments_lexer": "ipython3",
   "version": "3.7.6"
  }
 },
 "nbformat": 4,
 "nbformat_minor": 4
}
