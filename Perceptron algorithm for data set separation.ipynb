{
 "cells": [
  {
   "cell_type": "markdown",
   "metadata": {},
   "source": [
    "Perceptron algorithm for data set classification"
   ]
  },
  {
   "cell_type": "code",
   "execution_count": 1,
   "metadata": {},
   "outputs": [],
   "source": [
    "# import packages\n",
    "\n",
    "import pandas as pd \n",
    "import numpy as np\n",
    "import cvxpy as cp \n",
    "\n",
    "# read in data from files\n",
    "\n",
    "svmdata = pd.read_excel(r'svm.xlsx')\n",
    "\n",
    "# data\n",
    "\n",
    "X = svmdata.iloc[:,0:2].values\n",
    "y = svmdata.iloc[:,-1].values"
   ]
  },
  {
   "cell_type": "code",
   "execution_count": 2,
   "metadata": {},
   "outputs": [],
   "source": [
    "def perceptron_single_step_update(feature_vector,label,current_theta,current_theta_0):\n",
    "    \n",
    "    if label*(feature_vector@current_theta + current_theta_0) <= 0:\n",
    "        current_theta += label*feature_vector\n",
    "        current_theta_0 += label\n",
    "        \n",
    "    return (current_theta, current_theta_0)"
   ]
  },
  {
   "cell_type": "code",
   "execution_count": 3,
   "metadata": {},
   "outputs": [],
   "source": [
    "def perceptron(feature_matrix, labels, T):\n",
    "\n",
    "    theta = np.ones(feature_matrix.shape[1])\n",
    "    theta_0 = np.zeros(1)\n",
    "    \n",
    "    sum_theta = np.zeros(feature_matrix.shape[1])\n",
    "    sum_theta_0 = np.zeros(1)\n",
    "    \n",
    "    update_counter = 0\n",
    "    \n",
    "    # updating perceptrons\n",
    "    for t in range(T):\n",
    "        for i in range(feature_matrix.shape[0]):\n",
    "            update_counter += 1\n",
    "            eta = 1/np.sqrt(update_counter)\n",
    "            \n",
    "            theta, theta_0 = perceptron_single_step_update(feature_matrix[i],labels[i],theta,theta_0)\n",
    "            sum_theta += theta\n",
    "            sum_theta_0 += theta_0\n",
    "        \n",
    "    return (theta, theta_0)"
   ]
  },
  {
   "cell_type": "code",
   "execution_count": 4,
   "metadata": {},
   "outputs": [
    {
     "name": "stdout",
     "output_type": "stream",
     "text": [
      "[-1.397906  1.22659 ]\n",
      "[0.]\n"
     ]
    }
   ],
   "source": [
    "perc, inter = perceptron(X, y, 100)\n",
    "print(perc)\n",
    "print(inter)"
   ]
  },
  {
   "cell_type": "code",
   "execution_count": 5,
   "metadata": {},
   "outputs": [],
   "source": [
    "def hyperplane_perceptron(X):\n",
    "    hyp = np.empty(X.shape[0])\n",
    "    for i in range(X.shape[0]):\n",
    "        hyp[i] = np.dot(perc, X[i,:]) + inter\n",
    "    return(hyp)"
   ]
  },
  {
   "cell_type": "code",
   "execution_count": 6,
   "metadata": {},
   "outputs": [
    {
     "data": {
      "image/png": "[encoded data removed]",
      "text/plain": [
       "<Figure size 432x360 with 1 Axes>"
      ]
     },
     "metadata": {},
     "output_type": "display_data"
    }
   ],
   "source": [
    "import matplotlib.pyplot as plt\n",
    "import seaborn as sns\n",
    "\n",
    "plt.style.use('seaborn-whitegrid')\n",
    "plt.figure(figsize=[6,5])\n",
    "plt.scatter(X[:, 0], X[:, 1], c=y, s=30, cmap=plt.cm.Paired)\n",
    "\n",
    "# plot the decision function\n",
    "ax = plt.gca()\n",
    "xlim = ax.get_xlim()\n",
    "ylim = ax.get_ylim()\n",
    "\n",
    "# create grid to evaluate model\n",
    "xx = np.linspace(xlim[0], xlim[1], 30)\n",
    "yy = np.linspace(ylim[0], ylim[1], 30)\n",
    "YY, XX = np.meshgrid(yy, xx)\n",
    "xy = np.vstack([XX.ravel(), YY.ravel()]).T\n",
    "Z = hyperplane_perceptron(xy).reshape(XX.shape)\n",
    "\n",
    "# plot decision boundary and margins\n",
    "ax.contour(XX, YY, Z, colors='k', levels=[-5, 0, 5], alpha=0.5,\n",
    "        linestyles=['--', '-', '--'])\n",
    "\n",
    "plt.savefig('perceptron.png')\n",
    "plt.show()"
   ]
  }
 ],
 "metadata": {
  "kernelspec": {
   "display_name": "Python 3",
   "language": "python",
   "name": "python3"
  },
  "language_info": {
   "codemirror_mode": {
    "name": "ipython",
    "version": 3
   },
   "file_extension": ".py",
   "mimetype": "text/x-python",
   "name": "python",
   "nbconvert_exporter": "python",
   "pygments_lexer": "ipython3",
   "version": "3.7.6"
  }
 },
 "nbformat": 4,
 "nbformat_minor": 4
}
