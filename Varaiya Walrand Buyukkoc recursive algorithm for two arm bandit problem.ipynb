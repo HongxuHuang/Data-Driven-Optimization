{
 "cells": [
  {
   "cell_type": "markdown",
   "metadata": {},
   "source": [
    "Varaiya, Walrand, Buyukkoc recursive algorithm for two arm bandit problem"
   ]
  },
  {
   "cell_type": "code",
   "execution_count": 1,
   "metadata": {},
   "outputs": [],
   "source": [
    "import numpy as np"
   ]
  },
  {
   "cell_type": "code",
   "execution_count": 2,
   "metadata": {},
   "outputs": [],
   "source": [
    "# a function to calculate the algorithm\n",
    "def Gittins_VWB(X, r, beta, P): # provide state space(X), reward vecotr (r), discount factor (beta) and prob matrix\n",
    "    \n",
    "    # initialize arrays\n",
    "    alpha = np.zeros(len(X))\n",
    "    nu = np.zeros(len(X))\n",
    "    d = []\n",
    "    b = []\n",
    "\n",
    "    # initialize with identifying largest\n",
    "    largest = np.argmax(r)\n",
    "    alpha[largest] = largest\n",
    "    nu[largest] = r[int(largest)]\n",
    "\n",
    "    # initialize separate sets\n",
    "    C = np.array([X[int(largest)]])\n",
    "    S = np.delete(X, C)\n",
    "    #print(\"C\", C)\n",
    "    #print(\"S\", S)\n",
    "\n",
    "    # initialize Q\n",
    "    Q = np.zeros((len(X), len(X)))\n",
    "\n",
    "    # initialize d and b vectors\n",
    "    d.append(np.dot(np.linalg.inv(np.identity(len(X)) - beta * Q), r))\n",
    "    b.append(np.dot(np.linalg.inv(np.identity(len(X)) - beta * Q), np.ones(len(X))))\n",
    "\n",
    "    for k in range(1,len(X)):\n",
    "\n",
    "        # identify Q\n",
    "\n",
    "        for i in C:\n",
    "            Q[:,int(alpha[i])] = P[:,int(alpha[i])]\n",
    "\n",
    "        # calculate d and b\n",
    "        d.append(np.dot(np.linalg.inv(np.identity(len(X)) - beta * Q), r))\n",
    "        b.append(np.dot(np.linalg.inv(np.identity(len(X)) - beta * Q), np.ones(len(X))))\n",
    "\n",
    "        # identify largest based on d/b rule that is not in C already\n",
    "        order = np.argsort(-np.true_divide(d[k],b[k]),axis=0)\n",
    "\n",
    "        j = 0\n",
    "        while order[j] in C:\n",
    "            j += 1\n",
    "\n",
    "        largest = order[j]\n",
    "        alpha[largest] = largest\n",
    "\n",
    "        # calculate new nu entry\n",
    "        nu[largest] = np.true_divide(d[k],b[k])[int(alpha[largest])]\n",
    "\n",
    "        # re-allocate new C and S\n",
    "        C = np.concatenate((C, np.array([X[int(alpha[largest])]])))\n",
    "        S = np.delete(X, C)\n",
    "        #print(\"C\", C)\n",
    "        #print(\"S\", S)\n",
    "\n",
    "    return(nu)"
   ]
  },
  {
   "cell_type": "code",
   "execution_count": 3,
   "metadata": {},
   "outputs": [],
   "source": [
    "# provide data example\n",
    "X = np.array([0,1,2,3])\n",
    "r = np.array([16,19,30,4])\n",
    "P = np.array([[0.1, 0, 0.8, 0.1],\n",
    "              [0.5, 0, 0.1, 0.4],\n",
    "              [0.2, 0.6, 0, 0.2],\n",
    "              [0, 0.8, 0, 0.2]])\n",
    "beta = 0.75"
   ]
  },
  {
   "cell_type": "code",
   "execution_count": 4,
   "metadata": {},
   "outputs": [
    {
     "name": "stdout",
     "output_type": "stream",
     "text": [
      "[21.25       20.37195876 30.         13.23642426]\n"
     ]
    }
   ],
   "source": [
    "# execute code\n",
    "results = Gittins_VWB(X, r, beta, P)\n",
    "print(results)"
   ]
  }
 ],
 "metadata": {
  "kernelspec": {
   "display_name": "Python 3",
   "language": "python",
   "name": "python3"
  },
  "language_info": {
   "codemirror_mode": {
    "name": "ipython",
    "version": 3
   },
   "file_extension": ".py",
   "mimetype": "text/x-python",
   "name": "python",
   "nbconvert_exporter": "python",
   "pygments_lexer": "ipython3",
   "version": "3.7.6"
  }
 },
 "nbformat": 4,
 "nbformat_minor": 4
}
