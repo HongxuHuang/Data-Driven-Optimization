{
 "cells": [
  {
   "cell_type": "markdown",
   "metadata": {},
   "source": [
    "Rinott's ranking and selection procedure"
   ]
  },
  {
   "cell_type": "code",
   "execution_count": 1,
   "metadata": {},
   "outputs": [],
   "source": [
    "import numpy as np\n",
    "import pandas as pd\n",
    "import random as rd"
   ]
  },
  {
   "cell_type": "code",
   "execution_count": 2,
   "metadata": {},
   "outputs": [],
   "source": [
    "df = pd.read_excel (r'/Users/fietekrutein/Documents/University/University of Washington/Courses/2020 Q2/IND E 599 Data-driven Optimization/homework/HW 1/rinott.xlsx')\n",
    "#print (df)"
   ]
  },
  {
   "cell_type": "code",
   "execution_count": 3,
   "metadata": {},
   "outputs": [],
   "source": [
    "# set parameters from file\n",
    "Pstar = df.iloc[0,1]\n",
    "n0 = df.iloc[1,1]\n",
    "h = df.iloc[2,1]\n",
    "deltastar = df.iloc[3,1]"
   ]
  },
  {
   "cell_type": "code",
   "execution_count": 4,
   "metadata": {},
   "outputs": [],
   "source": [
    "# set data points\n",
    "data = df.iloc[10:,:]\n",
    "#data"
   ]
  },
  {
   "cell_type": "code",
   "execution_count": 5,
   "metadata": {},
   "outputs": [],
   "source": [
    "def Rinott(Pstar, n0, h, deltastar, data):\n",
    "    nu = n0-1\n",
    "    h = h # already provided\n",
    "    \n",
    "    # step (ii)\n",
    "    # define a frame that holds all samples\n",
    "    samples = np.empty([n0, data.shape[1]])\n",
    "    # collect samples\n",
    "    for i in np.arange(0, data.shape[1]-1, step = 1):\n",
    "        samples[:,i] = data.iloc[:n0,i+1]#data.iloc[:,i+1].sample(n=n0, random_state=1)\n",
    "\n",
    "    # step (iii)\n",
    "    # summary statistics calculations\n",
    "    stats = np.empty([data.shape[1]-1,4])\n",
    "    for i in np.arange(0, data.shape[1]-1, step = 1):\n",
    "        stats[i,0] = np.mean(samples[:,i])\n",
    "        stats[i,1] = np.var(samples[:,i], ddof = 1)\n",
    "    \n",
    "    # Stage 2\n",
    "    \n",
    "    # step (i)\n",
    "    for i in np.arange(0, data.shape[1]-1, step = 1):\n",
    "        stats[i,2] = max(n0, np.ceil(((h*np.sqrt(stats[i,1]))/deltastar)**2))\n",
    "        if stats[i,2] > n0:\n",
    "            sample_ext = data.iloc[:,i+1].sample(n = int(stats[i,2] - n0), random_state = 2)\n",
    "            \n",
    "        # step (ii)        \n",
    "            stats[i,3] = np.mean(np.concatenate((samples[:,i], sample_ext), axis = 0))\n",
    "        else:\n",
    "            stats[i,3] = np.mean(samples[:,i])\n",
    "        \n",
    "    # step (iii)\n",
    "    istar = np.argmax(stats[:,3])+1\n",
    "\n",
    "    # step (iv)\n",
    "    print(\"Sample\", istar, \"is the rv associated with the largest mu of\", round(max(stats[:,3]),3)) \n",
    "            \n",
    "    return(stats)"
   ]
  },
  {
   "cell_type": "code",
   "execution_count": 6,
   "metadata": {},
   "outputs": [
    {
     "name": "stdout",
     "output_type": "stream",
     "text": [
      "Sample 10 is the rv associated with the largest mu of 4.339\n"
     ]
    },
    {
     "data": {
      "text/html": [
       "<div>\n",
       "<style scoped>\n",
       "    .dataframe tbody tr th:only-of-type {\n",
       "        vertical-align: middle;\n",
       "    }\n",
       "\n",
       "    .dataframe tbody tr th {\n",
       "        vertical-align: top;\n",
       "    }\n",
       "\n",
       "    .dataframe thead th {\n",
       "        text-align: right;\n",
       "    }\n",
       "</style>\n",
       "<table border=\"1\" class=\"dataframe\">\n",
       "  <thead>\n",
       "    <tr style=\"text-align: right;\">\n",
       "      <th></th>\n",
       "      <th>Ybar^0_i</th>\n",
       "      <th>S_i^2</th>\n",
       "      <th>n_i</th>\n",
       "      <th>Ybar_i</th>\n",
       "    </tr>\n",
       "  </thead>\n",
       "  <tbody>\n",
       "    <tr>\n",
       "      <th>1</th>\n",
       "      <td>4.060</td>\n",
       "      <td>0.807</td>\n",
       "      <td>488.0</td>\n",
       "      <td>4.127</td>\n",
       "    </tr>\n",
       "    <tr>\n",
       "      <th>2</th>\n",
       "      <td>4.102</td>\n",
       "      <td>1.303</td>\n",
       "      <td>788.0</td>\n",
       "      <td>4.145</td>\n",
       "    </tr>\n",
       "    <tr>\n",
       "      <th>3</th>\n",
       "      <td>4.158</td>\n",
       "      <td>0.882</td>\n",
       "      <td>533.0</td>\n",
       "      <td>4.170</td>\n",
       "    </tr>\n",
       "    <tr>\n",
       "      <th>4</th>\n",
       "      <td>3.974</td>\n",
       "      <td>0.094</td>\n",
       "      <td>58.0</td>\n",
       "      <td>3.964</td>\n",
       "    </tr>\n",
       "    <tr>\n",
       "      <th>5</th>\n",
       "      <td>4.083</td>\n",
       "      <td>0.089</td>\n",
       "      <td>54.0</td>\n",
       "      <td>4.073</td>\n",
       "    </tr>\n",
       "    <tr>\n",
       "      <th>6</th>\n",
       "      <td>4.176</td>\n",
       "      <td>0.119</td>\n",
       "      <td>72.0</td>\n",
       "      <td>4.186</td>\n",
       "    </tr>\n",
       "    <tr>\n",
       "      <th>7</th>\n",
       "      <td>3.170</td>\n",
       "      <td>9.970</td>\n",
       "      <td>6024.0</td>\n",
       "      <td>4.010</td>\n",
       "    </tr>\n",
       "    <tr>\n",
       "      <th>8</th>\n",
       "      <td>4.132</td>\n",
       "      <td>12.469</td>\n",
       "      <td>7534.0</td>\n",
       "      <td>4.101</td>\n",
       "    </tr>\n",
       "    <tr>\n",
       "      <th>9</th>\n",
       "      <td>4.580</td>\n",
       "      <td>7.077</td>\n",
       "      <td>4276.0</td>\n",
       "      <td>4.206</td>\n",
       "    </tr>\n",
       "    <tr>\n",
       "      <th>10</th>\n",
       "      <td>4.389</td>\n",
       "      <td>11.788</td>\n",
       "      <td>7122.0</td>\n",
       "      <td>4.339</td>\n",
       "    </tr>\n",
       "  </tbody>\n",
       "</table>\n",
       "</div>"
      ],
      "text/plain": [
       "    Ybar^0_i   S_i^2     n_i  Ybar_i\n",
       "1      4.060   0.807   488.0   4.127\n",
       "2      4.102   1.303   788.0   4.145\n",
       "3      4.158   0.882   533.0   4.170\n",
       "4      3.974   0.094    58.0   3.964\n",
       "5      4.083   0.089    54.0   4.073\n",
       "6      4.176   0.119    72.0   4.186\n",
       "7      3.170   9.970  6024.0   4.010\n",
       "8      4.132  12.469  7534.0   4.101\n",
       "9      4.580   7.077  4276.0   4.206\n",
       "10     4.389  11.788  7122.0   4.339"
      ]
     },
     "execution_count": 6,
     "metadata": {},
     "output_type": "execute_result"
    }
   ],
   "source": [
    "results = Rinott(Pstar, n0, h, deltastar, data)\n",
    "results = np.round(results,3)\n",
    "results = pd.DataFrame(results) # transform into data frame\n",
    "results = results.rename(columns={0: \"Ybar^0_i\", 1: \"S_i^2\", 2: \"n_i\", 3: \"Ybar_i\"})\n",
    "results = results.rename(index = {0: 1, 1: 2, 2: 3, 3: 4, 4: 5, 5: 6, 6: 7, 7: 8, 8: 9, 9: 10})\n",
    "results.to_csv(index=True, path_or_buf = '/Users/fietekrutein/Documents/University/University of Washington/Courses/2020 Q2/IND E 599 Data-driven Optimization/homework/HW 1/Ex3_results.csv')\n",
    "results"
   ]
  }
 ],
 "metadata": {
  "kernelspec": {
   "display_name": "Python 3",
   "language": "python",
   "name": "python3"
  },
  "language_info": {
   "codemirror_mode": {
    "name": "ipython",
    "version": 3
   },
   "file_extension": ".py",
   "mimetype": "text/x-python",
   "name": "python",
   "nbconvert_exporter": "python",
   "pygments_lexer": "ipython3",
   "version": "3.7.6"
  }
 },
 "nbformat": 4,
 "nbformat_minor": 4
}
