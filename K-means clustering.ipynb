{
 "cells": [
  {
   "cell_type": "markdown",
   "metadata": {},
   "source": [
    "K-means clustering from scratch"
   ]
  },
  {
   "cell_type": "code",
   "execution_count": 1,
   "metadata": {},
   "outputs": [],
   "source": [
    "import pandas as pd \n",
    "import numpy as np\n",
    "import cvxpy as cp "
   ]
  },
  {
   "cell_type": "code",
   "execution_count": 30,
   "metadata": {},
   "outputs": [],
   "source": [
    "# read in data from files\n",
    "\n",
    "kmdata = pd.read_excel(r'drivers.xlsx')\n",
    "kmdata = kmdata.iloc[:,1:].values\n",
    "cluster = np.zeros([kmdata.shape[0],1])\n",
    "kmdata = np.append(kmdata, cluster, 1)"
   ]
  },
  {
   "cell_type": "code",
   "execution_count": 31,
   "metadata": {},
   "outputs": [],
   "source": [
    "# number of clusters\n",
    "K = 2"
   ]
  },
  {
   "cell_type": "code",
   "execution_count": 32,
   "metadata": {},
   "outputs": [],
   "source": [
    "# iterative refinement algorithm\n",
    "\n",
    "# 1. randomly sample K centroids\n",
    "\n",
    "# randomly initialize two equal size clusters\n",
    "\n",
    "idx = np.random.randint(kmdata.shape[0], size=int(kmdata.shape[0]/2)) # random indexes \n",
    "for i in range(kmdata.shape[0]):\n",
    "    if i in idx:\n",
    "        kmdata[i,2] = 1\n",
    "    else:\n",
    "        kmdata[i,2] = 2\n",
    "\n",
    "gamma1 = kmdata[idx,:2]\n",
    "gamma2 = kmdata[-idx,:2]\n",
    "\n",
    "# compute centroids\n",
    "\n",
    "c1 = (1/gamma1.shape[0]) * np.sum(gamma1, axis = 0)\n",
    "c2 = (1/gamma2.shape[0]) * np.sum(gamma2, axis = 0)"
   ]
  },
  {
   "cell_type": "code",
   "execution_count": 33,
   "metadata": {},
   "outputs": [
    {
     "name": "stdout",
     "output_type": "stream",
     "text": [
      "centroid 1 [180.017075  18.29    ]\n",
      "centroid 2: [49.8151625 20.08125  ]\n"
     ]
    }
   ],
   "source": [
    "# iterations\n",
    "\n",
    "while True:\n",
    "    \n",
    "    # 2. reassign vectors\n",
    "    \n",
    "    for i in range(kmdata.shape[0]):\n",
    "        if np.linalg.norm(kmdata[i,:2] - c1) <= np.linalg.norm(kmdata[i,:2] - c2):\n",
    "            kmdata[i,2] = 1\n",
    "        else:\n",
    "            kmdata[i,2] = 2\n",
    "    \n",
    "    new_idx = np.where(kmdata[:,2] == 1)[0]\n",
    "    if np.array_equal(idx, new_idx):\n",
    "        print(\"centroid 1\", c1)\n",
    "        print(\"centroid 2:\", c2)\n",
    "        break\n",
    "    else:\n",
    "        idx = new_idx\n",
    "    \n",
    "    gamma1 = kmdata[idx,:2]\n",
    "    gamma2 = kmdata[-idx,:2]\n",
    "    \n",
    "    # 3. recompute centroids\n",
    "    \n",
    "    c1 = (1/gamma1.shape[0]) * np.sum(gamma1, axis = 0)\n",
    "    c2 = (1/gamma2.shape[0]) * np.sum(gamma2, axis = 0)"
   ]
  },
  {
   "cell_type": "code",
   "execution_count": 51,
   "metadata": {},
   "outputs": [
    {
     "data": {
      "text/plain": [
       "<Figure size 432x360 with 0 Axes>"
      ]
     },
     "metadata": {},
     "output_type": "display_data"
    },
    {
     "data": {
      "image/png": "[encoded data removed]",
      "text/plain": [
       "<Figure size 432x288 with 1 Axes>"
      ]
     },
     "metadata": {},
     "output_type": "display_data"
    }
   ],
   "source": [
    "import matplotlib.pyplot as plt\n",
    "\n",
    "plt.figure(figsize=[6,5])\n",
    "centers = np.concatenate(([c1], [c2]), axis=0)\n",
    "x = kmdata[:,0]\n",
    "y = kmdata[:,1]\n",
    "cdict = {1: 'grey', 2: 'blue'}\n",
    "cluster = np.unique(kmdata[:,2])\n",
    "\n",
    "fig = plt.figure()\n",
    "ax = fig.add_subplot(111)\n",
    "#scatter = ax.scatter(x,y,c=kmdata[:,2],s=50)\n",
    "for g in np.unique(cluster):\n",
    "    ix = np.where(kmdata[:,2] == g)\n",
    "    ax.scatter(x[ix], y[ix], c = cdict[g], label = g, s = 100)\n",
    "for i,j in centers:\n",
    "    ax.scatter(i,j,s=50,c='red',marker='+')\n",
    "ax.set_xlabel('distance')\n",
    "ax.set_ylabel('speeding')\n",
    "plt.scatter\n",
    "\n",
    "plt.savefig('cluster.png')\n",
    "#fig.show()"
   ]
  }
 ],
 "metadata": {
  "kernelspec": {
   "display_name": "Python 3",
   "language": "python",
   "name": "python3"
  },
  "language_info": {
   "codemirror_mode": {
    "name": "ipython",
    "version": 3
   },
   "file_extension": ".py",
   "mimetype": "text/x-python",
   "name": "python",
   "nbconvert_exporter": "python",
   "pygments_lexer": "ipython3",
   "version": "3.7.6"
  }
 },
 "nbformat": 4,
 "nbformat_minor": 4
}
