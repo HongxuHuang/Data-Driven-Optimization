{
 "cells": [
  {
   "cell_type": "markdown",
   "metadata": {},
   "source": [
    "Support vector machine from scratch"
   ]
  },
  {
   "cell_type": "code",
   "execution_count": 24,
   "metadata": {},
   "outputs": [
    {
     "name": "stdout",
     "output_type": "stream",
     "text": [
      "\n",
      "The optimal value is -88.61823806508275\n",
      "The solution for lambda is\n",
      "[ 0.          0.         68.18686087 88.61823807  0.          0.\n",
      "  0.          0.          0.          0.          0.          0.\n",
      "  0.          0.         20.43137719  0.          0.          0.\n",
      "  0.          0.        ]\n",
      "A dual solution corresponding to the inequality constraints is\n",
      "0.7303788611017906\n"
     ]
    },
    {
     "data": {
      "image/png": "[encoded data removed]",
      "text/plain": [
       "<Figure size 432x360 with 1 Axes>"
      ]
     },
     "metadata": {},
     "output_type": "display_data"
    }
   ],
   "source": [
    "# import packages\n",
    "\n",
    "import pandas as pd \n",
    "import numpy as np\n",
    "import cvxpy as cp \n",
    "\n",
    "# read in data from files\n",
    "\n",
    "svmdata = pd.read_excel(r'/Users/fietekrutein/Documents/University/University of Washington/Courses/2020 Q2/IND E 599 Data-driven Optimization/homework/HW 3/svm.xlsx')\n",
    "\n",
    "#### part A ####################\n",
    "\n",
    "# data\n",
    "\n",
    "X = svmdata.iloc[:,0:2].values\n",
    "y = svmdata.iloc[:,-1].values\n",
    "\n",
    "# define SVM quadratic program\n",
    "# variable definition\n",
    "\n",
    "l = cp.Variable(len(y), nonneg = True) # lambda variable\n",
    "\n",
    "# matrix vector combination calculation\n",
    "\n",
    "matvec = y * (y * np.dot(X, X.T)).T\n",
    "\n",
    "# problem definition\n",
    "\n",
    "prob = cp.Problem(cp.Minimize((1/2) * cp.quad_form(l, matvec) - np.ones(len(y)).T @ l),\n",
    "                [y.T @ l == 0])\n",
    "\n",
    "prob.solve()\n",
    "\n",
    "# Print result.\n",
    "print(\"\\nThe optimal value is\", prob.value)\n",
    "print(\"The solution for lambda is\")\n",
    "print(l.value)\n",
    "print(\"A dual solution corresponding to the inequality constraints is\")\n",
    "print(prob.constraints[0].dual_value)\n",
    "\n",
    "# recover hyperplane\n",
    "\n",
    "astar = np.dot(l.value * y, X) # recover astar\n",
    "\n",
    "bstar = 1/(y[2]) - (np.dot(astar.T, X[2,:])) # recover bstar\n",
    "\n",
    "xstar = np.zeros([X.shape[0], X.shape[1]])\n",
    "for i in range(xstar.shape[0]):\n",
    "    if l.value[i] != 0:\n",
    "        xstar[i,:] = np.dot(astar, X[i,:].T) + bstar\n",
    "\n",
    "SV = []\n",
    "for i in range(X.shape[0]):\n",
    "    if l.value[i] != 0:\n",
    "        SV.append(X[i,:])\n",
    "SV = np.vstack(SV)\n",
    "\n",
    "def hyperplane(X):\n",
    "    hyp = np.empty(X.shape[0])\n",
    "    for i in range(X.shape[0]):\n",
    "        hyp[i] = np.dot(astar, X[i,:]) + bstar\n",
    "    return(hyp)\n",
    "\n",
    "import matplotlib.pyplot as plt\n",
    "import seaborn as sns\n",
    "\n",
    "plt.style.use('seaborn-whitegrid')\n",
    "plt.figure(figsize=[6,5])\n",
    "plt.scatter(X[:, 0], X[:, 1], c=y, s=30, cmap=plt.cm.Paired)\n",
    "\n",
    "# plot the decision function\n",
    "ax = plt.gca()\n",
    "xlim = ax.get_xlim()\n",
    "ylim = ax.get_ylim()\n",
    "\n",
    "# create grid to evaluate model\n",
    "xx = np.linspace(xlim[0], xlim[1], 30)\n",
    "yy = np.linspace(ylim[0], ylim[1], 30)\n",
    "YY, XX = np.meshgrid(yy, xx)\n",
    "xy = np.vstack([XX.ravel(), YY.ravel()]).T\n",
    "Z = hyperplane(xy).reshape(XX.shape)\n",
    "\n",
    "# plot decision boundary and margins\n",
    "ax.contour(XX, YY, Z, colors='k', levels=[-1, 0, 1], alpha=0.5,\n",
    "        linestyles=['--', '-', '--'])\n",
    "# plot support vectors#\n",
    "ax.scatter(SV[:, 0], SV[:, 1], s=100, linewidth=1, facecolors='none', edgecolors='k')\n",
    "\n",
    "plt.savefig('svm.png')\n",
    "plt.show()"
   ]
  }
 ],
 "metadata": {
  "kernelspec": {
   "display_name": "Python 3",
   "language": "python",
   "name": "python3"
  },
  "language_info": {
   "codemirror_mode": {
    "name": "ipython",
    "version": 3
   },
   "file_extension": ".py",
   "mimetype": "text/x-python",
   "name": "python",
   "nbconvert_exporter": "python",
   "pygments_lexer": "ipython3",
   "version": "3.7.6"
  }
 },
 "nbformat": 4,
 "nbformat_minor": 4
}
